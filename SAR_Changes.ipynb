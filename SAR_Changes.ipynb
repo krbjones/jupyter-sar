{
 "cells": [
  {
   "cell_type": "markdown",
   "metadata": {},
   "source": [
    "# SAR Change Detection Example (Jan 7/2021)"
   ]
  },
  {
   "cell_type": "code",
   "execution_count": null,
   "metadata": {},
   "outputs": [],
   "source": [
    "# Some dependencies that might be needed\n",
    "#! pip install sentinelsat\n",
    "#! pip install geopandas\n",
    "#! pip install folium\n",
    "# CATALYST algorithms can be imported with 'import pci' once CATALYST Professional is installed and licensed "
   ]
  },
  {
   "cell_type": "code",
   "execution_count": null,
   "metadata": {},
   "outputs": [],
   "source": [
    "#display the AOI on a basemap\n",
    "\n",
    "#define a basemap\n",
    "import folium\n",
    "m = folium.Map(\n",
    "    zoom_start=10,\n",
    "    #Imagery Map\n",
    "    # tiles='https://server.arcgisonline.com/arcgis/rest/services/World_Imagery/MapServer/tile/{z}/{y}/{x}',\n",
    "    \n",
    "    #Street Map\n",
    "    # tiles='https://server.arcgisonline.com/arcgis/rest/services/World_Street_Map/MapServer/tile/{z}/{y}/{x}',\n",
    "    \n",
    "    \n",
    "    # Topo Map\n",
    "    tiles='https://server.arcgisonline.com/arcgis/rest/services/World_Topo_Map/MapServer/tile/{z}/{y}/{x}',\n",
    "    attr='CATALYST.Earth',\n",
    "    location=[44.75, -122.1],   \n",
    ")\n",
    "\n",
    "geojson = r\"c:\\Data_001\\SAR_Changes\\Demo AOI.geojson\"\n",
    "folium.GeoJson(\n",
    "    geojson,\n",
    "    name='geojson'\n",
    ").add_to(m)\n",
    "\n",
    "m"
   ]
  },
  {
   "cell_type": "code",
   "execution_count": null,
   "metadata": {},
   "outputs": [],
   "source": [
    "#Import CATALYST Professional API\n",
    "import pci\n",
    "\n",
    "#Import Image Ingest Algorithm [SARINGEST]\n",
    "from pci.saringest import saringest\n",
    "from pci.exceptions import PCIException\n",
    "\n",
    "#import Change Detection Algorithm [CCDINTEN]\n",
    "from pci.ccdinten import ccdinten\n",
    "from pci.exceptions import PCIException\n",
    "\n",
    "#import Polygonization of Changes Algorithm [EXPOLRAS]\n",
    "from pci.expolras import expolras\n",
    "from pci.exceptions import PCIException"
   ]
  },
  {
   "cell_type": "code",
   "execution_count": null,
   "metadata": {},
   "outputs": [],
   "source": [
    "#Set up ingestion of AOI for 2 Sentinel-1 GRD Images (local files)\n",
    "ingest1 = \"C:\\Data_001\\SAR_Changes\\S1A_IW_GRDH_1SDV_20201204T141406_20201204T141435_035537_0427BA_0B78.SAFE\\manifest.safe\"\n",
    "ingest2 = \"C:\\Data_001\\SAR_Changes\\S1A_IW_GRDH_1SDV_20201216T141406_20201216T141435_035712_042DD6_D9D5.SAFE\\manifest.safe\"\n",
    "\n",
    "#sub section of larger Sentinel-1 image\n",
    "input_window = [6600, 14000, 6200, 3500] \n",
    "\n",
    "imported1 = r\"C:\\Data_001\\SAR_Changes\\20201204_sub.pix\"\n",
    "imported2 = r\"C:\\Data_001\\SAR_Changes\\20201216_sub.pix\""
   ]
  },
  {
   "cell_type": "code",
   "execution_count": null,
   "metadata": {},
   "outputs": [],
   "source": [
    "# ingest images from local files\n",
    "#import first image\n",
    "try:\n",
    "    saringest(ingest1, imported1, input_window)\n",
    "except PCIException as e:\n",
    "    print(e)\n",
    "except Exception as e:\n",
    "    print(e)\n",
    "\n",
    "#import second image\n",
    "try:\n",
    "    saringest(ingest2, imported2, input_window)\n",
    "except PCIException as e:\n",
    "    print(e)\n",
    "except Exception as e:\n",
    "    print(e)"
   ]
  },
  {
   "cell_type": "code",
   "execution_count": null,
   "metadata": {},
   "outputs": [],
   "source": [
    "#alternatively, search and download your own images from Copernicus SciHub\n",
    "# import sentinelsat library\n",
    "from sentinelsat import SentinelAPI, read_geojson, geojson_to_wkt\n",
    "\n",
    "# import geopandas to format outputs from Scihub search into a table\n",
    "import geopandas as gpd \n",
    "\n",
    "# pass credentials\n",
    "user = ('pci_user')\n",
    "password=('PCIGeomatics')\n",
    "\n",
    "# connect to API\n",
    "api = SentinelAPI(user, password, 'https://scihub.copernicus.eu/dhus')\n",
    "\n",
    "#define search footprint\n",
    "footprint = geojson_to_wkt(read_geojson('C:\\Data_001\\SAR_Changes\\Demo AOI.geojson'))\n",
    "\n",
    "products = api.query(footprint,\n",
    "                     date = ('20201203', '20201218'),\n",
    "                     producttype=('GRD'),\n",
    "                     orbitdirection= 'DESCENDING')\n",
    "api.to_geodataframe(products)\n"
   ]
  },
  {
   "cell_type": "code",
   "execution_count": null,
   "metadata": {},
   "outputs": [],
   "source": [
    "#download specific images -  copy/paste from table above\n",
    "# images will be stored in root folder of JN\n",
    "\n",
    "# Download 20201204 GRD image\n",
    "# api.download('9f9efee1-bacd-4dc7-a7a0-4c2ab727d6f0')\n",
    "\n",
    "# Download 20201216 GRD image\n",
    "# api.download('07b5c32a-722f-464f-b027-b394f62618b8')\n",
    "\n",
    "# sample calls from sentinelsat api\n",
    "# query long form metadata\n",
    "# api.get_product_odata('07b5c32a-722f-464f-b027-b394f62618b8', full=True)\n"
   ]
  },
  {
   "cell_type": "code",
   "execution_count": null,
   "metadata": {},
   "outputs": [],
   "source": [
    "# set up for CCDINTEN (local files)\n",
    "# input image and reference images stay the same\n",
    "ccdinten_result = \"C:\\Data_001\\SAR_Changes\\CCD_changes.pix\" #new output file\n",
    "\n",
    "#execute ccdinten\n",
    "try:\n",
    "    ccdinten(imported2, imported1,[] ,ccdinten_result, [])\n",
    "except PCIException as e:\n",
    "    print(e)\n",
    "except Exception as e:\n",
    "    print(e)"
   ]
  },
  {
   "cell_type": "code",
   "execution_count": null,
   "metadata": {},
   "outputs": [],
   "source": [
    "# filter changes and extract polygons\n",
    "# set up for EXPOLRAS\n",
    "expolras_result = \"C:\\Data_001\\SAR_Changes\\change_polygons.pix\" #new output file\n",
    "threshold_value = [90] #only retain changes above this ranked change percentile value between 0-100\n",
    "min_contig_pixels = [50] #only keep changes where neighboring pixels are equal to or greater than this value\n",
    "\n",
    "try:\n",
    "    expolras(ccdinten_result, [4], '', threshold_value, min_contig_pixels,[], expolras_result, '', '')\n",
    "except PCIException as e:\n",
    "    print(e)\n",
    "except Exception as e:\n",
    "    print(e)"
   ]
  },
  {
   "cell_type": "code",
   "execution_count": null,
   "metadata": {},
   "outputs": [],
   "source": []
  }
 ],
 "metadata": {
  "kernelspec": {
   "display_name": "Python 3",
   "language": "python",
   "name": "python3"
  },
  "language_info": {
   "codemirror_mode": {
    "name": "ipython",
    "version": 3
   },
   "file_extension": ".py",
   "mimetype": "text/x-python",
   "name": "python",
   "nbconvert_exporter": "python",
   "pygments_lexer": "ipython3",
   "version": "3.5.6"
  }
 },
 "nbformat": 4,
 "nbformat_minor": 4
}
